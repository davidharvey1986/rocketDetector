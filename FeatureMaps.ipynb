{
 "cells": [
  {
   "cell_type": "markdown",
   "metadata": {},
   "source": [
    "A notebook to explore the feature maps of a CNN."
   ]
  },
  {
   "cell_type": "code",
   "execution_count": 1,
   "metadata": {},
   "outputs": [],
   "source": [
    "from globalVariables import *"
   ]
  },
  {
   "cell_type": "code",
   "execution_count": 2,
   "metadata": {},
   "outputs": [],
   "source": [
    "trainingSet, testSet = getTestTrainSets(split=0.7)\n",
    "class_names, counts = np.unique(trainingSet['labels'], return_counts=True)"
   ]
  },
  {
   "cell_type": "code",
   "execution_count": 4,
   "metadata": {},
   "outputs": [
    {
     "name": "stderr",
     "output_type": "stream",
     "text": [
      "2022-06-17 16:04:12.419520: I tensorflow/stream_executor/cuda/cuda_gpu_executor.cc:975] successful NUMA node read from SysFS had negative value (-1), but there must be at least one NUMA node, so returning NUMA node zero\n",
      "2022-06-17 16:04:12.420427: W tensorflow/stream_executor/platform/default/dso_loader.cc:64] Could not load dynamic library 'libcublas.so.11'; dlerror: libcublas.so.11: cannot open shared object file: No such file or directory; LD_LIBRARY_PATH: /usr/local/cuda/lib64::/data2/harvey/lib/gsl/lib:/data2/harvey/lib/cfitsio/lib:/data2/harvey/lib/boost/lib:/data2/harvey/lib/CCfits/lib\n",
      "2022-06-17 16:04:12.420576: W tensorflow/stream_executor/platform/default/dso_loader.cc:64] Could not load dynamic library 'libcublasLt.so.11'; dlerror: libcublasLt.so.11: cannot open shared object file: No such file or directory; LD_LIBRARY_PATH: /usr/local/cuda/lib64::/data2/harvey/lib/gsl/lib:/data2/harvey/lib/cfitsio/lib:/data2/harvey/lib/boost/lib:/data2/harvey/lib/CCfits/lib\n",
      "2022-06-17 16:04:12.420697: W tensorflow/stream_executor/platform/default/dso_loader.cc:64] Could not load dynamic library 'libcufft.so.10'; dlerror: libcufft.so.10: cannot open shared object file: No such file or directory; LD_LIBRARY_PATH: /usr/local/cuda/lib64::/data2/harvey/lib/gsl/lib:/data2/harvey/lib/cfitsio/lib:/data2/harvey/lib/boost/lib:/data2/harvey/lib/CCfits/lib\n",
      "2022-06-17 16:04:12.420811: W tensorflow/stream_executor/platform/default/dso_loader.cc:64] Could not load dynamic library 'libcurand.so.10'; dlerror: libcurand.so.10: cannot open shared object file: No such file or directory; LD_LIBRARY_PATH: /usr/local/cuda/lib64::/data2/harvey/lib/gsl/lib:/data2/harvey/lib/cfitsio/lib:/data2/harvey/lib/boost/lib:/data2/harvey/lib/CCfits/lib\n",
      "2022-06-17 16:04:12.420929: W tensorflow/stream_executor/platform/default/dso_loader.cc:64] Could not load dynamic library 'libcusolver.so.11'; dlerror: libcusolver.so.11: cannot open shared object file: No such file or directory; LD_LIBRARY_PATH: /usr/local/cuda/lib64::/data2/harvey/lib/gsl/lib:/data2/harvey/lib/cfitsio/lib:/data2/harvey/lib/boost/lib:/data2/harvey/lib/CCfits/lib\n",
      "2022-06-17 16:04:12.421042: W tensorflow/stream_executor/platform/default/dso_loader.cc:64] Could not load dynamic library 'libcusparse.so.11'; dlerror: libcusparse.so.11: cannot open shared object file: No such file or directory; LD_LIBRARY_PATH: /usr/local/cuda/lib64::/data2/harvey/lib/gsl/lib:/data2/harvey/lib/cfitsio/lib:/data2/harvey/lib/boost/lib:/data2/harvey/lib/CCfits/lib\n",
      "2022-06-17 16:04:12.421160: W tensorflow/stream_executor/platform/default/dso_loader.cc:64] Could not load dynamic library 'libcudnn.so.8'; dlerror: libcudnn.so.8: cannot open shared object file: No such file or directory; LD_LIBRARY_PATH: /usr/local/cuda/lib64::/data2/harvey/lib/gsl/lib:/data2/harvey/lib/cfitsio/lib:/data2/harvey/lib/boost/lib:/data2/harvey/lib/CCfits/lib\n",
      "2022-06-17 16:04:12.421174: W tensorflow/core/common_runtime/gpu/gpu_device.cc:1850] Cannot dlopen some GPU libraries. Please make sure the missing libraries mentioned above are installed properly if you would like to use GPU. Follow the guide at https://www.tensorflow.org/install/gpu for how to download and setup the required libraries for your platform.\n",
      "Skipping registering GPU devices...\n",
      "2022-06-17 16:04:12.450730: I tensorflow/core/platform/cpu_feature_guard.cc:193] This TensorFlow binary is optimized with oneAPI Deep Neural Network Library (oneDNN) to use the following CPU instructions in performance-critical operations:  AVX2 FMA\n",
      "To enable them in other operations, rebuild TensorFlow with the appropriate compiler flags.\n"
     ]
    }
   ],
   "source": [
    "model = tf.keras.models.load_model('pickles/mainCNNmodel_lr_-4.h5')"
   ]
  },
  {
   "cell_type": "code",
   "execution_count": null,
   "metadata": {},
   "outputs": [],
   "source": [
    "# Define a new Model, Input= image \n",
    "# Output= intermediate representations for all layers in the  \n",
    "# previous model after the first.\n",
    "successive_outputs = [layer.output for layer in model.layers[1:]]\n",
    "#visualization_model = Model(img_input, successive_outputs)\n",
    "visualization_model = tf.keras.models.Model(inputs = model.input, outputs = successive_outputs)\n",
    "# Convert ht image to Array of dimension (150,150,3)\n",
    "x   = trainingSet[\"samples\"][0]\n",
    "x   = x.reshape((1,) + x.shape)\n",
    "# Rescale by 1/255\n",
    "x /= 255.0\n",
    "# Let's run input image through our vislauization network\n",
    "# to obtain all intermediate representations for the image.\n",
    "successive_feature_maps = visualization_model.predict(x)\n",
    "# Retrieve are the names of the layers, so can have them as part of our plot\n",
    "layer_names = [layer.name for layer in model.layers]\n",
    "for layer_name, feature_map in zip(layer_names, successive_feature_maps):\n",
    "  print(feature_map.shape)\n",
    "  if len(feature_map.shape) == 4:\n",
    "    \n",
    "    # Plot Feature maps for the conv / maxpool layers, not the fully-connected layers\n",
    "   \n",
    "    n_features = feature_map.shape[-1]  # number of features in the feature map\n",
    "    size       = feature_map.shape[ 1]  # feature map shape (1, size, size, n_features)\n",
    "    \n",
    "    # We will tile our images in this matrix\n",
    "    display_grid = np.zeros((size, size * n_features))\n",
    "    \n",
    "    # Postprocess the feature to be visually palatable\n",
    "    for i in range(n_features):\n",
    "      x  = feature_map[0, :, :, i]\n",
    "      x -= x.mean()\n",
    "      x /= x.std ()\n",
    "      x *=  64\n",
    "      x += 128\n",
    "      x  = np.clip(x, 0, 255).astype('uint8')\n",
    "      # Tile each filter into a horizontal grid\n",
    "      display_grid[:, i * size : (i + 1) * size] = x\n",
    "# Display the grid\n",
    "    scale = 20. / n_features\n",
    "    plt.figure( figsize=(scale * n_features, scale) )\n",
    "    plt.title ( layer_name )\n",
    "    plt.grid  ( False )\n",
    "    plt.imshow( display_grid, aspect='auto', cmap='viridis' )"
   ]
  }
 ],
 "metadata": {
  "kernelspec": {
   "display_name": "local-venv",
   "language": "python",
   "name": "local-venv"
  },
  "language_info": {
   "codemirror_mode": {
    "name": "ipython",
    "version": 3
   },
   "file_extension": ".py",
   "mimetype": "text/x-python",
   "name": "python",
   "nbconvert_exporter": "python",
   "pygments_lexer": "ipython3",
   "version": "3.7.13"
  }
 },
 "nbformat": 4,
 "nbformat_minor": 4
}
