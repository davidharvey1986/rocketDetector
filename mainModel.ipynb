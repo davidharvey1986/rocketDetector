{
 "cells": [
  {
   "cell_type": "markdown",
   "metadata": {},
   "source": [
    "A notebook to train a CNN. This is similar main.py but in notebook form for bug hunting."
   ]
  },
  {
   "cell_type": "code",
   "execution_count": null,
   "metadata": {},
   "outputs": [],
   "source": [
    "%load_ext autoreload\n",
    "%autoreload 2"
   ]
  },
  {
   "cell_type": "code",
   "execution_count": null,
   "metadata": {},
   "outputs": [],
   "source": [
    "from globalVariables import *"
   ]
  },
  {
   "cell_type": "code",
   "execution_count": null,
   "metadata": {},
   "outputs": [],
   "source": [
    "trainingSet, testSet = getTestTrainSets(split=0.3)"
   ]
  },
  {
   "cell_type": "code",
   "execution_count": null,
   "metadata": {},
   "outputs": [],
   "source": [
    "class_names, counts = np.unique(trainingSet['labels'], return_counts=True)"
   ]
  },
  {
   "cell_type": "code",
   "execution_count": null,
   "metadata": {},
   "outputs": [],
   "source": [
    "print(\"There are %i training and %i test sets\" % (trainingSet[\"labels\"].shape[0], testSet[\"labels\"].shape[0]))"
   ]
  },
  {
   "cell_type": "code",
   "execution_count": null,
   "metadata": {},
   "outputs": [],
   "source": [
    "model = mainModel(trainingSet[\"samples\"].shape[1:], dropout=0., momentum=0.9, nClasses=2, learning_rate=1e-4)"
   ]
  },
  {
   "cell_type": "code",
   "execution_count": null,
   "metadata": {},
   "outputs": [],
   "source": [
    "csv_file = 'pickles/mainCNN_lr_-4.csv'\n",
    "csv_logger = CSVLogger(csv_file, append=True)\n",
    "# Train the model with the new callback\n",
    "inceptionHistory = model.fit(trainingSet['samples'], \n",
    "          trainingSet['labels'],  initial_epoch=2,\n",
    "          epochs=40,\n",
    "          validation_data=(testSet['samples'], testSet['labels']),\\\n",
    "          callbacks=csv_logger)# Pass callback to training\n",
    "\n",
    "model.save('pickles/mainCNNmodel_lr_-4.h5')"
   ]
  }
 ],
 "metadata": {
  "kernelspec": {
   "display_name": "local-venv",
   "language": "python",
   "name": "local-venv"
  },
  "language_info": {
   "codemirror_mode": {
    "name": "ipython",
    "version": 3
   },
   "file_extension": ".py",
   "mimetype": "text/x-python",
   "name": "python",
   "nbconvert_exporter": "python",
   "pygments_lexer": "ipython3",
   "version": "3.7.13"
  }
 },
 "nbformat": 4,
 "nbformat_minor": 4
}
